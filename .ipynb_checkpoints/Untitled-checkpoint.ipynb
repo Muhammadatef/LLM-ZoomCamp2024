{
 "cells": [
  {
   "cell_type": "code",
   "execution_count": 1,
   "id": "46ecc22e-488b-4ba8-9370-33c4fd756f30",
   "metadata": {},
   "outputs": [],
   "source": [
    "import openai\n"
   ]
  },
  {
   "cell_type": "code",
   "execution_count": 2,
   "id": "42446c8e-2a74-4ba4-8090-da900209434b",
   "metadata": {},
   "outputs": [],
   "source": [
    "from openai import OpenAI"
   ]
  },
  {
   "cell_type": "code",
   "execution_count": 26,
   "id": "a9f3a648-0fb0-4f3a-ae32-b6d34919f721",
   "metadata": {},
   "outputs": [],
   "source": [
    "client = OpenAI()"
   ]
  },
  {
   "cell_type": "code",
   "execution_count": 19,
   "id": "e5f744c3-de83-4170-9e16-d1fbeb1c8253",
   "metadata": {},
   "outputs": [],
   "source": [
    "import os"
   ]
  },
  {
   "cell_type": "code",
   "execution_count": null,
   "id": "18567da7-afe0-487d-bb29-8c0836d7c3ed",
   "metadata": {},
   "outputs": [],
   "source": []
  },
  {
   "cell_type": "code",
   "execution_count": 27,
   "id": "37796912-0466-40cf-b63a-1d1294cafee3",
   "metadata": {},
   "outputs": [],
   "source": [
    "response = client.chat.completions.create(model ='gpt-4o',\n",
    "                              messages=[{\"role\": \"user\", \"content\": \"is it too late to join the course?\"}])"
   ]
  },
  {
   "cell_type": "code",
   "execution_count": 29,
   "id": "0464ed60-e12f-47b9-bdd7-adfb69810910",
   "metadata": {
    "scrolled": true
   },
   "outputs": [
    {
     "data": {
      "text/plain": [
       "\"Whether it's too late to join a course depends on several factors:\\n\\n1. **Enrollment Deadlines**: Check the official enrollment or registration deadlines specified by the course provider or institution. Some institutions have strict deadlines, while others offer rolling admissions.\\n\\n2. **Course Start Date**: If the course has already started, inquire with the course administrator or instructor to see if late enrollment is allowed. Some courses permit late entry within a certain window, while others may not.\\n\\n3. **Course Type**: Online courses, especially those that are self-paced, may allow enrollment at any time. Traditional in-person or scheduled online courses typically have fixed start dates.\\n\\n4. **Availability of Space**: Some courses have limited spots, which can fill up quickly. Check if there are still seats available.\\n\\n5. **Catch-Up Requirements**: Determine if joining late will significantly impact your ability to succeed in the course. You'll need to find out if you will be responsible for catching up on missed material and assignments.\\n\\n6. **Instructor's Policy**: Different instructors have different policies regarding late enrollment. Contacting the instructor directly may provide clarity and possibly some flexibility.\\n\\nIf you find that it's not too late, make sure to review any missed material, complete required readings or assignments, and perhaps reach out to classmates or the instructor for any needed support.\\n\\nIf it is too late to join, you might want to ask about future sessions or alternative courses to ensure you stay on track with your education or professional development goals.\""
      ]
     },
     "execution_count": 29,
     "metadata": {},
     "output_type": "execute_result"
    }
   ],
   "source": [
    "response.choices[0].message.content"
   ]
  },
  {
   "cell_type": "code",
   "execution_count": null,
   "id": "7fda30a3-5662-4501-aab6-683731c21449",
   "metadata": {},
   "outputs": [],
   "source": []
  }
 ],
 "metadata": {
  "kernelspec": {
   "display_name": "Python 3 (ipykernel)",
   "language": "python",
   "name": "python3"
  },
  "language_info": {
   "codemirror_mode": {
    "name": "ipython",
    "version": 3
   },
   "file_extension": ".py",
   "mimetype": "text/x-python",
   "name": "python",
   "nbconvert_exporter": "python",
   "pygments_lexer": "ipython3",
   "version": "3.10.13"
  }
 },
 "nbformat": 4,
 "nbformat_minor": 5
}
